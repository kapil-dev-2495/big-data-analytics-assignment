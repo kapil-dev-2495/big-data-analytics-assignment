{
 "cells": [
  {
   "cell_type": "markdown",
   "source": [
    "### Mongodb Aggregate And Group\n",
    "1. avg\n",
    "2. sum\n",
    "3. project"
   ],
   "metadata": {}
  },
  {
   "cell_type": "code",
   "execution_count": 2,
   "source": [
    "from pymongo import MongoClient  \r\n",
    "    \r\n",
    "# creation of object MongoClient  \r\n",
    "client=MongoClient()  \r\n",
    "    \r\n",
    "# Connect with the portnumber and host  \r\n",
    "client = MongoClient(\"mongodb://localhost:27017/\")  \r\n",
    "    \r\n",
    "# Access database  \r\n",
    "mydatabase = client['titles']  \r\n",
    "    \r\n",
    "# Access collection of the database  \r\n",
    "collection=mydatabase['titles']  \r\n",
    "data = [ \r\n",
    "    {\"tconst\":\"action\", \"genres\":\"scientific\"}] \r\n",
    "  \r\n",
    "collection.insert_many(data) \r\n",
    "\r\n",
    "collection=mydatabase['ratings'] \r\n",
    "data= [ \r\n",
    "    {\"tconst\":\"action\",\"averagerating\":\"scientific\"}\r\n",
    "]"
   ],
   "outputs": [
    {
     "output_type": "execute_result",
     "data": {
      "text/plain": [
       "<pymongo.results.InsertManyResult at 0x17ca5ba9088>"
      ]
     },
     "metadata": {},
     "execution_count": 2
    }
   ],
   "metadata": {}
  },
  {
   "cell_type": "code",
   "execution_count": 9,
   "source": [
    "### Find Amit And Krish Total Subjects\r\n",
    "agg_result= collection.aggregate( \r\n",
    "    [{ \r\n",
    "    \"$group\" :  \r\n",
    "        {\"_id\" : \"$user\",  \r\n",
    "         \"titles : {\"$ratings\" : 1} \r\n",
    "         }} \r\n",
    "    ]) \r\n"
   ],
   "outputs": [],
   "metadata": {}
  },
  {
   "cell_type": "code",
   "execution_count": 10,
   "source": [
    "for i in agg_result: \r\n",
    "    print(i)"
   ],
   "outputs": [
    {
     "output_type": "stream",
     "name": "stdout",
     "text": [
      "{'_id': 'Amit', 'Total Subject': 3}\n",
      "{'_id': 'Krish', 'Total Subject': 3}\n"
     ]
    }
   ],
   "metadata": {}
  },
  {
   "cell_type": "code",
   "execution_count": 11,
   "source": [
    "### Calculating the total score based on user\r\n",
    "agg_result= collection.aggregate( \r\n",
    "    [{ \r\n",
    "    \"$group\" :  \r\n",
    "        {\"_id\" : \"$user\",  \r\n",
    "         \"Total Marks\" : {\"$sum\" :\"$score\"} \r\n",
    "         }} \r\n",
    "    ]) \r\n",
    "for i in agg_result: \r\n",
    "    print(i)"
   ],
   "outputs": [
    {
     "output_type": "stream",
     "name": "stdout",
     "text": [
      "{'_id': 'Amit', 'Total Marks': 235}\n",
      "{'_id': 'Krish', 'Total Marks': 250}\n"
     ]
    }
   ],
   "metadata": {}
  },
  {
   "cell_type": "code",
   "execution_count": 12,
   "source": [
    "### Calculating the average score based on user\r\n",
    "agg_result=collection.aggregate([\r\n",
    "   {\r\n",
    "      \"$group\": {\r\n",
    "         \"_id\": '$user',\r\n",
    "         \"StudentScoreAverage\": {\r\n",
    "            \"$avg\": \"$score\"\r\n",
    "         }\r\n",
    "      }\r\n",
    "   }\r\n",
    "])\r\n",
    "for i in agg_result: \r\n",
    "    print(i)"
   ],
   "outputs": [
    {
     "output_type": "stream",
     "name": "stdout",
     "text": [
      "{'_id': 'Amit', 'StudentScoreAverage': 78.33333333333333}\n",
      "{'_id': 'Krish', 'StudentScoreAverage': 83.33333333333333}\n"
     ]
    }
   ],
   "metadata": {}
  },
  {
   "cell_type": "code",
   "execution_count": 15,
   "source": [
    "import datetime as datetime"
   ],
   "outputs": [],
   "metadata": {}
  },
  {
   "cell_type": "code",
   "execution_count": 16,
   "source": [
    "### Create a new collection\r\n",
    "data=[{ \"_id\" : 1, \"item\" : \"abc\", \"price\" : 10, \"quantity\" : 2, \"date\" : datetime.datetime.utcnow()},\r\n",
    "{ \"_id\" : 2, \"item\" : \"jkl\", \"price\" : 20, \"quantity\" : 1, \"date\" : datetime.datetime.utcnow() },\r\n",
    "{ \"_id\" : 3, \"item\" : \"xyz\", \"price\" : 5, \"quantity\" : 5, \"date\" : datetime.datetime.utcnow() },\r\n",
    "{ \"_id\" : 4, \"item\" : \"abc\", \"price\" : 10, \"quantity\" : 10, \"date\" : datetime.datetime.utcnow() },\r\n",
    "{ \"_id\" : 5, \"item\" : \"xyz\", \"price\" : 5, \"quantity\" : 10, \"date\" :datetime.datetime.utcnow() }]"
   ],
   "outputs": [],
   "metadata": {}
  },
  {
   "cell_type": "code",
   "execution_count": 17,
   "source": [
    "data"
   ],
   "outputs": [
    {
     "output_type": "execute_result",
     "data": {
      "text/plain": [
       "[{'_id': 1,\n",
       "  'item': 'abc',\n",
       "  'price': 10,\n",
       "  'quantity': 2,\n",
       "  'date': datetime.datetime(2020, 9, 14, 16, 2, 29, 444236)},\n",
       " {'_id': 2,\n",
       "  'item': 'jkl',\n",
       "  'price': 20,\n",
       "  'quantity': 1,\n",
       "  'date': datetime.datetime(2020, 9, 14, 16, 2, 29, 444236)},\n",
       " {'_id': 3,\n",
       "  'item': 'xyz',\n",
       "  'price': 5,\n",
       "  'quantity': 5,\n",
       "  'date': datetime.datetime(2020, 9, 14, 16, 2, 29, 444236)},\n",
       " {'_id': 4,\n",
       "  'item': 'abc',\n",
       "  'price': 10,\n",
       "  'quantity': 10,\n",
       "  'date': datetime.datetime(2020, 9, 14, 16, 2, 29, 444236)},\n",
       " {'_id': 5,\n",
       "  'item': 'xyz',\n",
       "  'price': 5,\n",
       "  'quantity': 10,\n",
       "  'date': datetime.datetime(2020, 9, 14, 16, 2, 29, 444236)}]"
      ]
     },
     "metadata": {},
     "execution_count": 17
    }
   ],
   "metadata": {}
  },
  {
   "cell_type": "code",
   "execution_count": 18,
   "source": [
    "mycollection=mydatabase['stores']  \r\n",
    "mycollection.insert_many(data)"
   ],
   "outputs": [
    {
     "output_type": "execute_result",
     "data": {
      "text/plain": [
       "<pymongo.results.InsertManyResult at 0x17ca7fe1bc8>"
      ]
     },
     "metadata": {},
     "execution_count": 18
    }
   ],
   "metadata": {}
  },
  {
   "cell_type": "code",
   "execution_count": 19,
   "source": [
    "### Calculating the average quantity And Average Price\r\n",
    "agg_result=mycollection.aggregate([\r\n",
    "   {\r\n",
    "      \"$group\": {\r\n",
    "         \"_id\": '$item',\r\n",
    "         \"avgAmount\": {\"$avg\": {\"$multiply\": [ \"$price\", \"$quantity\" ]}},\r\n",
    "          \"avgQuantity\": { \"$avg\": \"$quantity\" }\r\n",
    "      }\r\n",
    "   }\r\n",
    "])\r\n",
    "for i in agg_result: \r\n",
    "    print(i)"
   ],
   "outputs": [
    {
     "output_type": "stream",
     "name": "stdout",
     "text": [
      "{'_id': 'abc', 'avgAmount': 60.0, 'avgQuantity': 6.0}\n",
      "{'_id': 'jkl', 'avgAmount': 20.0, 'avgQuantity': 1.0}\n",
      "{'_id': 'xyz', 'avgAmount': 37.5, 'avgQuantity': 7.5}\n"
     ]
    }
   ],
   "metadata": {}
  },
  {
   "cell_type": "code",
   "execution_count": 20,
   "source": [
    "#### $Project\r\n",
    "\r\n",
    "data=[{\r\n",
    "  \"_id\" : 1,\r\n",
    "  \"title\": \"abc123\",\r\n",
    "  \"isbn\": \"0001122223334\",\r\n",
    "  \"author\": { \"last\": \"zzz\", \"first\": \"aaa\" },\r\n",
    "  \"copies\": 5\r\n",
    "},\r\n",
    "{\r\n",
    "  \"_id\" : 2,\r\n",
    "  \"title\": \"Baked Goods\",\r\n",
    "  \"isbn\": \"9999999999999\",\r\n",
    "  \"author\": { \"last\": \"xyz\", \"first\": \"abc\", \"middle\": \"\" },\r\n",
    "  \"copies\": 2\r\n",
    "}\r\n",
    "]"
   ],
   "outputs": [],
   "metadata": {}
  },
  {
   "cell_type": "code",
   "execution_count": 21,
   "source": [
    "# Access collection of the database  \r\n",
    "collection=mydatabase['Books']  "
   ],
   "outputs": [],
   "metadata": {}
  },
  {
   "cell_type": "code",
   "execution_count": 22,
   "source": [
    "collection.insert_many(data)"
   ],
   "outputs": [
    {
     "output_type": "execute_result",
     "data": {
      "text/plain": [
       "<pymongo.results.InsertManyResult at 0x17ca5ff5e48>"
      ]
     },
     "metadata": {},
     "execution_count": 22
    }
   ],
   "metadata": {}
  },
  {
   "cell_type": "code",
   "execution_count": 25,
   "source": [
    "for row in collection.aggregate( [ { \"$project\": { \"title\": 1,\"isbn\":1 } } ] ):\r\n",
    "    print(row)"
   ],
   "outputs": [
    {
     "output_type": "stream",
     "name": "stdout",
     "text": [
      "{'_id': 1, 'title': 'abc123', 'isbn': '0001122223334'}\n",
      "{'_id': 2, 'title': 'Baked Goods', 'isbn': '9999999999999'}\n"
     ]
    }
   ],
   "metadata": {}
  },
  {
   "cell_type": "code",
   "execution_count": null,
   "source": [],
   "outputs": [],
   "metadata": {}
  }
 ],
 "metadata": {
  "kernelspec": {
   "display_name": "Python 3",
   "language": "python",
   "name": "python3"
  },
  "language_info": {
   "codemirror_mode": {
    "name": "ipython",
    "version": 3
   },
   "file_extension": ".py",
   "mimetype": "text/x-python",
   "name": "python",
   "nbconvert_exporter": "python",
   "pygments_lexer": "ipython3",
   "version": "3.7.9"
  }
 },
 "nbformat": 4,
 "nbformat_minor": 4
}